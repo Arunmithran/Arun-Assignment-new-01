{
 "cells": [
  {
   "cell_type": "code",
   "execution_count": null,
   "metadata": {},
   "outputs": [],
   "source": [
    "#print 'correct' if i ==10"
   ]
  },
  {
   "cell_type": "code",
   "execution_count": 1,
   "metadata": {},
   "outputs": [
    {
     "name": "stdout",
     "output_type": "stream",
     "text": [
      "value:10\n",
      "corrct\n"
     ]
    }
   ],
   "source": [
    "i=10\n",
    "if i ==10:\n",
    "    print(f\"value:{i}\")\n",
    "    print(\"corrct\")"
   ]
  },
  {
   "cell_type": "code",
   "execution_count": null,
   "metadata": {},
   "outputs": [],
   "source": [
    "#check the password, using if and else"
   ]
  },
  {
   "cell_type": "code",
   "execution_count": 2,
   "metadata": {},
   "outputs": [
    {
     "name": "stdout",
     "output_type": "stream",
     "text": [
      "Enter the password: HOPE@123\n",
      "Your password is correct\n"
     ]
    }
   ],
   "source": [
    "correct_password = \"HOPE@123\"\n",
    "entered_password = input(\"Enter the password: \")\n",
    "if entered_password == correct_password:\n",
    "    print(\"Your password is correct\")\n",
    "else:\n",
    "    print(\"Your password is incorrect\")"
   ]
  },
  {
   "cell_type": "code",
   "execution_count": null,
   "metadata": {},
   "outputs": [],
   "source": [
    "#catagory the people by their age like children, Adult, Citizen, Senior Citizen"
   ]
  },
  {
   "cell_type": "code",
   "execution_count": 1,
   "metadata": {},
   "outputs": [
    {
     "name": "stdout",
     "output_type": "stream",
     "text": [
      "Age: 20\n",
      "Adult\n"
     ]
    }
   ],
   "source": [
    "age=int(input(\"Age: \"))\n",
    "if age < 13:\n",
    "    category = \"Children\"\n",
    "elif 13 <= age < 18:\n",
    "    category = \"Teenager\"\n",
    "elif 18 <= age < 60:\n",
    "    category = \"Adult\"\n",
    "elif 60 <= age < 80:\n",
    "    category = \"Citizen\"\n",
    "else:\n",
    "    category = \"Senior Citizen\"\n",
    "print(f\"{category}\")"
   ]
  },
  {
   "cell_type": "code",
   "execution_count": null,
   "metadata": {},
   "outputs": [],
   "source": [
    "#find whether given number is positive or negative"
   ]
  },
  {
   "cell_type": "code",
   "execution_count": 1,
   "metadata": {},
   "outputs": [
    {
     "name": "stdout",
     "output_type": "stream",
     "text": [
      "Enter any number: 1\n",
      "No is positive.\n"
     ]
    }
   ],
   "source": [
    "Num=int(input(\"Enter any number: \"))\n",
    "if Num > 0:\n",
    "    print(f\"No is positive.\")\n",
    "elif Num < 0:\n",
    "    print(f\"No is negative.\")\n",
    "else:\n",
    "    print(\"The no is zero.\")"
   ]
  },
  {
   "cell_type": "code",
   "execution_count": null,
   "metadata": {},
   "outputs": [],
   "source": [
    "#print check whether the given number is divisible by 5"
   ]
  },
  {
   "cell_type": "code",
   "execution_count": 1,
   "metadata": {},
   "outputs": [
    {
     "name": "stdout",
     "output_type": "stream",
     "text": [
      "Enter a number to check: 22\n",
      "It is not divisible by 5\n"
     ]
    }
   ],
   "source": [
    "Num=int(input(\"Enter a number to check: \"))\n",
    "if Num %5 ==0:\n",
    "    print(f\"It is divisible by 5\")\n",
    "else:\n",
    "    print(f\"It is not divisible by 5\")"
   ]
  },
  {
   "cell_type": "code",
   "execution_count": null,
   "metadata": {},
   "outputs": [],
   "source": []
  }
 ],
 "metadata": {
  "kernelspec": {
   "display_name": "Python 3",
   "language": "python",
   "name": "python3"
  },
  "language_info": {
   "codemirror_mode": {
    "name": "ipython",
    "version": 3
   },
   "file_extension": ".py",
   "mimetype": "text/x-python",
   "name": "python",
   "nbconvert_exporter": "python",
   "pygments_lexer": "ipython3",
   "version": "3.7.4"
  }
 },
 "nbformat": 4,
 "nbformat_minor": 2
}
